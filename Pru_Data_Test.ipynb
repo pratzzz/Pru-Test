{
 "cells": [
  {
   "cell_type": "markdown",
   "metadata": {
    "run_control": {
     "marked": true
    }
   },
   "source": [
    "# Pru Wealth Data Test\n",
    "\n",
    "Below we will explore a mock database of customers, policies and funds that are similar to the Pru Wealth data. The first section of this notebook will test your SQL skills, the second section will test your Python skills and visualisation skills.\n",
    "\n",
    "The database file is called Prudential_Data.db\n",
    "\n",
    "The three tables included in this database are:\n",
    "* Customer_Table\n",
    "* Policy_Table\n",
    "* Fund_Table\n",
    "\n",
    "You will need to have the following packages installed in your Python environment:\n",
    "* numpy\n",
    "* pandas\n",
    "* sqlite3\n",
    "\n",
    "For visualization use any package of your choice (e.g., matplotlib, seaborn, plotly).\n",
    "\n",
    "Please complete and return the test before the deadline by emailing your copy of this notebook to: Denholm.Hesse@Prudential.co.uk. If you do not know the answer to a question feel free to use Google and Stack Overflow. This is to give you the option to teach yourself a concept from the internet to address a question which you do not know the answer to, please refrain from skipping questions. The test is meant to be completed by you only.\n",
    "\n",
    "Good luck and have fun!"
   ]
  },
  {
   "cell_type": "code",
   "execution_count": 1,
   "metadata": {
    "run_control": {
     "marked": true
    }
   },
   "outputs": [],
   "source": [
    "import numpy as np\n",
    "import pandas as pd\n",
    "import sqlite3"
   ]
  },
  {
   "cell_type": "markdown",
   "metadata": {
    "run_control": {
     "marked": true
    }
   },
   "source": [
    "# SQL test\n",
    "\n",
    "IMPORANT: Please make sure all questions in this section are solved using SQL by only editing the content of the variable *sqlite_query*. Please do not edit the below cell:"
   ]
  },
  {
   "cell_type": "code",
   "execution_count": 2,
   "metadata": {
    "run_control": {
     "marked": true
    }
   },
   "outputs": [],
   "source": [
    "# Establish DB connection\n",
    "conn = sqlite3.connect('Prudential_Data.db')"
   ]
  },
  {
   "cell_type": "markdown",
   "metadata": {},
   "source": [
    "Below is an example of how to query the SQLlite databse from this Jupyter notebook. Please note that SQLlite might have a slightly different syntax from the SQL you normally use. Please do not edit the below cell:"
   ]
  },
  {
   "cell_type": "code",
   "execution_count": 3,
   "metadata": {},
   "outputs": [
    {
     "data": {
      "text/html": [
       "<div>\n",
       "<style scoped>\n",
       "    .dataframe tbody tr th:only-of-type {\n",
       "        vertical-align: middle;\n",
       "    }\n",
       "\n",
       "    .dataframe tbody tr th {\n",
       "        vertical-align: top;\n",
       "    }\n",
       "\n",
       "    .dataframe thead th {\n",
       "        text-align: right;\n",
       "    }\n",
       "</style>\n",
       "<table border=\"1\" class=\"dataframe\">\n",
       "  <thead>\n",
       "    <tr style=\"text-align: right;\">\n",
       "      <th></th>\n",
       "      <th>COUNT(*)</th>\n",
       "    </tr>\n",
       "  </thead>\n",
       "  <tbody>\n",
       "    <tr>\n",
       "      <th>0</th>\n",
       "      <td>1635</td>\n",
       "    </tr>\n",
       "  </tbody>\n",
       "</table>\n",
       "</div>"
      ],
      "text/plain": [
       "   COUNT(*)\n",
       "0      1635"
      ]
     },
     "execution_count": 3,
     "metadata": {},
     "output_type": "execute_result"
    }
   ],
   "source": [
    "sqlite_query = \"\"\"\n",
    "SELECT COUNT(*) \n",
    "from policy_table \n",
    "\"\"\"\n",
    "\n",
    "pd.read_sql(sqlite_query, conn)"
   ]
  },
  {
   "cell_type": "markdown",
   "metadata": {
    "run_control": {
     "marked": true
    }
   },
   "source": [
    "The first table \"Customer_Table\" contains personal information about the customers. Please do not edit the below cell:"
   ]
  },
  {
   "cell_type": "code",
   "execution_count": 4,
   "metadata": {
    "run_control": {
     "marked": true
    }
   },
   "outputs": [
    {
     "data": {
      "text/html": [
       "<div>\n",
       "<style scoped>\n",
       "    .dataframe tbody tr th:only-of-type {\n",
       "        vertical-align: middle;\n",
       "    }\n",
       "\n",
       "    .dataframe tbody tr th {\n",
       "        vertical-align: top;\n",
       "    }\n",
       "\n",
       "    .dataframe thead th {\n",
       "        text-align: right;\n",
       "    }\n",
       "</style>\n",
       "<table border=\"1\" class=\"dataframe\">\n",
       "  <thead>\n",
       "    <tr style=\"text-align: right;\">\n",
       "      <th></th>\n",
       "      <th>index</th>\n",
       "      <th>Customer ID</th>\n",
       "      <th>Email</th>\n",
       "      <th>Gender</th>\n",
       "      <th>Age</th>\n",
       "      <th>Postcode</th>\n",
       "    </tr>\n",
       "  </thead>\n",
       "  <tbody>\n",
       "    <tr>\n",
       "      <th>0</th>\n",
       "      <td>0</td>\n",
       "      <td>CO183683</td>\n",
       "      <td>NLUPPITT14@PARALLELS.COM</td>\n",
       "      <td>Male</td>\n",
       "      <td>90</td>\n",
       "      <td>None</td>\n",
       "    </tr>\n",
       "    <tr>\n",
       "      <th>1</th>\n",
       "      <td>1</td>\n",
       "      <td>CO314757</td>\n",
       "      <td>None</td>\n",
       "      <td>Female</td>\n",
       "      <td>90</td>\n",
       "      <td>None</td>\n",
       "    </tr>\n",
       "    <tr>\n",
       "      <th>2</th>\n",
       "      <td>2</td>\n",
       "      <td>CO720602</td>\n",
       "      <td>None</td>\n",
       "      <td>Female</td>\n",
       "      <td>90</td>\n",
       "      <td>None</td>\n",
       "    </tr>\n",
       "    <tr>\n",
       "      <th>3</th>\n",
       "      <td>3</td>\n",
       "      <td>CO34804</td>\n",
       "      <td>None</td>\n",
       "      <td>Female</td>\n",
       "      <td>90</td>\n",
       "      <td>1495-701</td>\n",
       "    </tr>\n",
       "    <tr>\n",
       "      <th>4</th>\n",
       "      <td>4</td>\n",
       "      <td>CO474411</td>\n",
       "      <td>None</td>\n",
       "      <td>Male</td>\n",
       "      <td>90</td>\n",
       "      <td>301288</td>\n",
       "    </tr>\n",
       "  </tbody>\n",
       "</table>\n",
       "</div>"
      ],
      "text/plain": [
       "   index Customer ID                     Email  Gender  Age  Postcode\n",
       "0      0    CO183683  NLUPPITT14@PARALLELS.COM    Male   90      None\n",
       "1      1    CO314757                      None  Female   90      None\n",
       "2      2    CO720602                      None  Female   90      None\n",
       "3      3     CO34804                      None  Female   90  1495-701\n",
       "4      4    CO474411                      None    Male   90    301288"
      ]
     },
     "execution_count": 4,
     "metadata": {},
     "output_type": "execute_result"
    }
   ],
   "source": [
    "sqlite_query = \"\"\"\n",
    "SELECT * \n",
    "from Customer_Table \n",
    "limit 5\n",
    "\"\"\"\n",
    "\n",
    "pd.read_sql(sqlite_query, conn)"
   ]
  },
  {
   "cell_type": "markdown",
   "metadata": {},
   "source": [
    "The second table \"Policy_Table\" contains data relating to customer policies. The policy value is the current value of the policy. Please do not edit the below cell:"
   ]
  },
  {
   "cell_type": "code",
   "execution_count": 5,
   "metadata": {},
   "outputs": [
    {
     "data": {
      "text/html": [
       "<div>\n",
       "<style scoped>\n",
       "    .dataframe tbody tr th:only-of-type {\n",
       "        vertical-align: middle;\n",
       "    }\n",
       "\n",
       "    .dataframe tbody tr th {\n",
       "        vertical-align: top;\n",
       "    }\n",
       "\n",
       "    .dataframe thead th {\n",
       "        text-align: right;\n",
       "    }\n",
       "</style>\n",
       "<table border=\"1\" class=\"dataframe\">\n",
       "  <thead>\n",
       "    <tr style=\"text-align: right;\">\n",
       "      <th></th>\n",
       "      <th>index</th>\n",
       "      <th>Policy Number</th>\n",
       "      <th>Customer ID</th>\n",
       "      <th>Product Category</th>\n",
       "      <th>Product Name</th>\n",
       "      <th>Policy Value</th>\n",
       "      <th>Policy Start Date</th>\n",
       "    </tr>\n",
       "  </thead>\n",
       "  <tbody>\n",
       "    <tr>\n",
       "      <th>0</th>\n",
       "      <td>0</td>\n",
       "      <td>RET100072</td>\n",
       "      <td>CO276506</td>\n",
       "      <td>RETIREMENT</td>\n",
       "      <td>RETIREMENT ACCOUNT</td>\n",
       "      <td>270033.0</td>\n",
       "      <td>2016-01-02 00:00:00</td>\n",
       "    </tr>\n",
       "    <tr>\n",
       "      <th>1</th>\n",
       "      <td>1</td>\n",
       "      <td>RET100931</td>\n",
       "      <td>CO831289</td>\n",
       "      <td>RETIREMENT</td>\n",
       "      <td>RETIREMENT ACCOUNT</td>\n",
       "      <td>26394.0</td>\n",
       "      <td>2016-01-04 00:00:00</td>\n",
       "    </tr>\n",
       "    <tr>\n",
       "      <th>2</th>\n",
       "      <td>2</td>\n",
       "      <td>RET100682</td>\n",
       "      <td>CO784249</td>\n",
       "      <td>RETIREMENT</td>\n",
       "      <td>RETIREMENT ACCOUNT</td>\n",
       "      <td>773567.0</td>\n",
       "      <td>2016-01-04 00:00:00</td>\n",
       "    </tr>\n",
       "    <tr>\n",
       "      <th>3</th>\n",
       "      <td>3</td>\n",
       "      <td>RET100447</td>\n",
       "      <td>CO295533</td>\n",
       "      <td>RETIREMENT</td>\n",
       "      <td>RETIREMENT ACCOUNT</td>\n",
       "      <td>35512.0</td>\n",
       "      <td>2016-01-07 00:00:00</td>\n",
       "    </tr>\n",
       "    <tr>\n",
       "      <th>4</th>\n",
       "      <td>4</td>\n",
       "      <td>RET100390</td>\n",
       "      <td>CO901735</td>\n",
       "      <td>RETIREMENT</td>\n",
       "      <td>RETIREMENT ACCOUNT</td>\n",
       "      <td>767580.0</td>\n",
       "      <td>2016-01-08 00:00:00</td>\n",
       "    </tr>\n",
       "  </tbody>\n",
       "</table>\n",
       "</div>"
      ],
      "text/plain": [
       "   index Policy Number Customer ID Product Category        Product Name  \\\n",
       "0      0     RET100072    CO276506       RETIREMENT  RETIREMENT ACCOUNT   \n",
       "1      1     RET100931    CO831289       RETIREMENT  RETIREMENT ACCOUNT   \n",
       "2      2     RET100682    CO784249       RETIREMENT  RETIREMENT ACCOUNT   \n",
       "3      3     RET100447    CO295533       RETIREMENT  RETIREMENT ACCOUNT   \n",
       "4      4     RET100390    CO901735       RETIREMENT  RETIREMENT ACCOUNT   \n",
       "\n",
       "   Policy Value    Policy Start Date  \n",
       "0      270033.0  2016-01-02 00:00:00  \n",
       "1       26394.0  2016-01-04 00:00:00  \n",
       "2      773567.0  2016-01-04 00:00:00  \n",
       "3       35512.0  2016-01-07 00:00:00  \n",
       "4      767580.0  2016-01-08 00:00:00  "
      ]
     },
     "execution_count": 5,
     "metadata": {},
     "output_type": "execute_result"
    }
   ],
   "source": [
    "sqlite_query = \"\"\"\n",
    "SELECT * \n",
    "from Policy_Table \n",
    "limit 5\n",
    "\"\"\"\n",
    "\n",
    "pd.read_sql(sqlite_query, conn)"
   ]
  },
  {
   "cell_type": "markdown",
   "metadata": {},
   "source": [
    "The final table \"Fund_Table\" contains historic data on the Policy Value (Policy_Value_Snapshot). The Policy_Value_Snapshot represents the value of the policy and the Date column is the date at which that value was recorded. The value may have changed overtime due to changes in the fund price or quanity of units the policy was invested in. Please do not edit the below cell:"
   ]
  },
  {
   "cell_type": "code",
   "execution_count": 6,
   "metadata": {},
   "outputs": [
    {
     "data": {
      "text/html": [
       "<div>\n",
       "<style scoped>\n",
       "    .dataframe tbody tr th:only-of-type {\n",
       "        vertical-align: middle;\n",
       "    }\n",
       "\n",
       "    .dataframe tbody tr th {\n",
       "        vertical-align: top;\n",
       "    }\n",
       "\n",
       "    .dataframe thead th {\n",
       "        text-align: right;\n",
       "    }\n",
       "</style>\n",
       "<table border=\"1\" class=\"dataframe\">\n",
       "  <thead>\n",
       "    <tr style=\"text-align: right;\">\n",
       "      <th></th>\n",
       "      <th>index</th>\n",
       "      <th>Policy Number</th>\n",
       "      <th>Customer ID</th>\n",
       "      <th>Date</th>\n",
       "      <th>Product Category</th>\n",
       "      <th>Product Name</th>\n",
       "      <th>Policy_Value_Snapshot</th>\n",
       "    </tr>\n",
       "  </thead>\n",
       "  <tbody>\n",
       "    <tr>\n",
       "      <th>0</th>\n",
       "      <td>0</td>\n",
       "      <td>ANN1221</td>\n",
       "      <td>CO408564</td>\n",
       "      <td>2009-10-31 00:00:00</td>\n",
       "      <td>ANNUITY</td>\n",
       "      <td>STANDARD ANNUITY</td>\n",
       "      <td>None</td>\n",
       "    </tr>\n",
       "    <tr>\n",
       "      <th>1</th>\n",
       "      <td>1</td>\n",
       "      <td>ANN1221</td>\n",
       "      <td>CO408564</td>\n",
       "      <td>2009-11-30 00:00:00</td>\n",
       "      <td>ANNUITY</td>\n",
       "      <td>STANDARD ANNUITY</td>\n",
       "      <td>None</td>\n",
       "    </tr>\n",
       "    <tr>\n",
       "      <th>2</th>\n",
       "      <td>2</td>\n",
       "      <td>ANN1221</td>\n",
       "      <td>CO408564</td>\n",
       "      <td>2009-12-31 00:00:00</td>\n",
       "      <td>ANNUITY</td>\n",
       "      <td>STANDARD ANNUITY</td>\n",
       "      <td>None</td>\n",
       "    </tr>\n",
       "    <tr>\n",
       "      <th>3</th>\n",
       "      <td>3</td>\n",
       "      <td>ANN1221</td>\n",
       "      <td>CO408564</td>\n",
       "      <td>2010-01-31 00:00:00</td>\n",
       "      <td>ANNUITY</td>\n",
       "      <td>STANDARD ANNUITY</td>\n",
       "      <td>None</td>\n",
       "    </tr>\n",
       "    <tr>\n",
       "      <th>4</th>\n",
       "      <td>4</td>\n",
       "      <td>ANN1221</td>\n",
       "      <td>CO408564</td>\n",
       "      <td>2010-02-28 00:00:00</td>\n",
       "      <td>ANNUITY</td>\n",
       "      <td>STANDARD ANNUITY</td>\n",
       "      <td>None</td>\n",
       "    </tr>\n",
       "  </tbody>\n",
       "</table>\n",
       "</div>"
      ],
      "text/plain": [
       "   index Policy Number Customer ID                 Date Product Category  \\\n",
       "0      0       ANN1221    CO408564  2009-10-31 00:00:00          ANNUITY   \n",
       "1      1       ANN1221    CO408564  2009-11-30 00:00:00          ANNUITY   \n",
       "2      2       ANN1221    CO408564  2009-12-31 00:00:00          ANNUITY   \n",
       "3      3       ANN1221    CO408564  2010-01-31 00:00:00          ANNUITY   \n",
       "4      4       ANN1221    CO408564  2010-02-28 00:00:00          ANNUITY   \n",
       "\n",
       "       Product Name Policy_Value_Snapshot  \n",
       "0  STANDARD ANNUITY                  None  \n",
       "1  STANDARD ANNUITY                  None  \n",
       "2  STANDARD ANNUITY                  None  \n",
       "3  STANDARD ANNUITY                  None  \n",
       "4  STANDARD ANNUITY                  None  "
      ]
     },
     "execution_count": 6,
     "metadata": {},
     "output_type": "execute_result"
    }
   ],
   "source": [
    "sqlite_query = \"\"\"\n",
    "SELECT \n",
    "*\n",
    "from Fund_Table\n",
    "limit 5\n",
    "\n",
    "\"\"\"\n",
    "\n",
    "pd.read_sql(sqlite_query, conn)"
   ]
  },
  {
   "cell_type": "markdown",
   "metadata": {},
   "source": [
    "If a question requires additional explanation for your answer, please add additional cells below the code. "
   ]
  },
  {
   "cell_type": "markdown",
   "metadata": {
    "run_control": {
     "marked": true
    }
   },
   "source": [
    "## Q1: What is the current average policy value split by each product name? "
   ]
  },
  {
   "cell_type": "code",
   "execution_count": 7,
   "metadata": {
    "run_control": {
     "marked": true
    }
   },
   "outputs": [
    {
     "data": {
      "text/html": [
       "<div>\n",
       "<style scoped>\n",
       "    .dataframe tbody tr th:only-of-type {\n",
       "        vertical-align: middle;\n",
       "    }\n",
       "\n",
       "    .dataframe tbody tr th {\n",
       "        vertical-align: top;\n",
       "    }\n",
       "\n",
       "    .dataframe thead th {\n",
       "        text-align: right;\n",
       "    }\n",
       "</style>\n",
       "<table border=\"1\" class=\"dataframe\">\n",
       "  <thead>\n",
       "    <tr style=\"text-align: right;\">\n",
       "      <th></th>\n",
       "      <th>Product Name</th>\n",
       "      <th>Policy Value</th>\n",
       "    </tr>\n",
       "  </thead>\n",
       "  <tbody>\n",
       "    <tr>\n",
       "      <th>0</th>\n",
       "      <td>RETIREMENT ACCOUNT</td>\n",
       "      <td>504964.96</td>\n",
       "    </tr>\n",
       "    <tr>\n",
       "      <th>1</th>\n",
       "      <td>FOCUSSED ISA</td>\n",
       "      <td>5746.34</td>\n",
       "    </tr>\n",
       "    <tr>\n",
       "      <th>2</th>\n",
       "      <td>CORPORATE MEMBERSHIP</td>\n",
       "      <td>5697.29</td>\n",
       "    </tr>\n",
       "    <tr>\n",
       "      <th>3</th>\n",
       "      <td>SIPP</td>\n",
       "      <td>5335.84</td>\n",
       "    </tr>\n",
       "    <tr>\n",
       "      <th>4</th>\n",
       "      <td>NHS PENSION</td>\n",
       "      <td>5241.50</td>\n",
       "    </tr>\n",
       "    <tr>\n",
       "      <th>5</th>\n",
       "      <td>PRUDENTIAL ISA</td>\n",
       "      <td>5161.14</td>\n",
       "    </tr>\n",
       "    <tr>\n",
       "      <th>6</th>\n",
       "      <td>PRUDENTIAL INVESTMENT PLAN</td>\n",
       "      <td>5084.52</td>\n",
       "    </tr>\n",
       "    <tr>\n",
       "      <th>7</th>\n",
       "      <td>PRU BOND</td>\n",
       "      <td>4516.39</td>\n",
       "    </tr>\n",
       "    <tr>\n",
       "      <th>8</th>\n",
       "      <td>STANDARD ANNUITY</td>\n",
       "      <td>NaN</td>\n",
       "    </tr>\n",
       "  </tbody>\n",
       "</table>\n",
       "</div>"
      ],
      "text/plain": [
       "                 Product Name  Policy Value\n",
       "0          RETIREMENT ACCOUNT     504964.96\n",
       "1                FOCUSSED ISA       5746.34\n",
       "2        CORPORATE MEMBERSHIP       5697.29\n",
       "3                        SIPP       5335.84\n",
       "4                 NHS PENSION       5241.50\n",
       "5              PRUDENTIAL ISA       5161.14\n",
       "6  PRUDENTIAL INVESTMENT PLAN       5084.52\n",
       "7                    PRU BOND       4516.39\n",
       "8            STANDARD ANNUITY           NaN"
      ]
     },
     "execution_count": 7,
     "metadata": {},
     "output_type": "execute_result"
    }
   ],
   "source": [
    "sqlite_query = \"\"\"\n",
    "SELECT \"Product Name\", \n",
    "    ROUND(AVG(\"Policy Value\"),2) AS \"Policy Value\"\n",
    "    FROM Policy_Table\n",
    "GROUP BY 1\n",
    "    ORDER BY 2 DESC;\n",
    "\"\"\"\n",
    "pd.read_sql(sqlite_query, conn)"
   ]
  },
  {
   "cell_type": "markdown",
   "metadata": {
    "run_control": {
     "marked": true
    }
   },
   "source": [
    "## Q2: How many customers opened a new policy in Q1 2017 who already had an existing pension product? "
   ]
  },
  {
   "cell_type": "code",
   "execution_count": 8,
   "metadata": {
    "run_control": {
     "marked": true
    },
    "scrolled": true
   },
   "outputs": [
    {
     "data": {
      "text/html": [
       "<div>\n",
       "<style scoped>\n",
       "    .dataframe tbody tr th:only-of-type {\n",
       "        vertical-align: middle;\n",
       "    }\n",
       "\n",
       "    .dataframe tbody tr th {\n",
       "        vertical-align: top;\n",
       "    }\n",
       "\n",
       "    .dataframe thead th {\n",
       "        text-align: right;\n",
       "    }\n",
       "</style>\n",
       "<table border=\"1\" class=\"dataframe\">\n",
       "  <thead>\n",
       "    <tr style=\"text-align: right;\">\n",
       "      <th></th>\n",
       "      <th>No. of Customers</th>\n",
       "    </tr>\n",
       "  </thead>\n",
       "  <tbody>\n",
       "    <tr>\n",
       "      <th>0</th>\n",
       "      <td>35</td>\n",
       "    </tr>\n",
       "  </tbody>\n",
       "</table>\n",
       "</div>"
      ],
      "text/plain": [
       "   No. of Customers\n",
       "0                35"
      ]
     },
     "execution_count": 8,
     "metadata": {},
     "output_type": "execute_result"
    }
   ],
   "source": [
    "sqlite_query = \"\"\"\n",
    "\n",
    "WITH Q1 AS (\n",
    "SELECT \"Customer ID\" AS \"Customer ID\"\n",
    "    FROM Policy_Table\n",
    "    WHERE \"Product Category\" == \"PENSION\"\n",
    "    AND \"Policy Start Date\" < \"2017-01-01\"\n",
    "    )\n",
    "    \n",
    "SELECT COUNT(DISTINCT(Q1.\"Customer ID\")) AS \"No. of Customers\"\n",
    "    FROM Q1\n",
    "    JOIN Policy_Table AS Q2\n",
    "    ON Q1.\"Customer ID\"=Q2.\"Customer ID\"\n",
    "    WHERE strftime(\"%Y\",Q2.\"Policy Start Date\") = \"2017\"\n",
    "    AND CAST(strftime(\"%m\",Q2.\"Policy Start Date\") as int) <=3\n",
    "    \n",
    "\"\"\"\n",
    "pd.read_sql(sqlite_query, conn)"
   ]
  },
  {
   "cell_type": "markdown",
   "metadata": {
    "run_control": {
     "marked": true
    }
   },
   "source": [
    "## Q3: What was the customer ID that had the biggest difference in policy value between its earliest and latest date (for any product) ?"
   ]
  },
  {
   "cell_type": "code",
   "execution_count": 9,
   "metadata": {
    "run_control": {
     "marked": true
    }
   },
   "outputs": [
    {
     "data": {
      "text/html": [
       "<div>\n",
       "<style scoped>\n",
       "    .dataframe tbody tr th:only-of-type {\n",
       "        vertical-align: middle;\n",
       "    }\n",
       "\n",
       "    .dataframe tbody tr th {\n",
       "        vertical-align: top;\n",
       "    }\n",
       "\n",
       "    .dataframe thead th {\n",
       "        text-align: right;\n",
       "    }\n",
       "</style>\n",
       "<table border=\"1\" class=\"dataframe\">\n",
       "  <thead>\n",
       "    <tr style=\"text-align: right;\">\n",
       "      <th></th>\n",
       "      <th>Customer ID</th>\n",
       "      <th>Variance</th>\n",
       "    </tr>\n",
       "  </thead>\n",
       "  <tbody>\n",
       "    <tr>\n",
       "      <th>0</th>\n",
       "      <td>CO867151</td>\n",
       "      <td>992437.0</td>\n",
       "    </tr>\n",
       "  </tbody>\n",
       "</table>\n",
       "</div>"
      ],
      "text/plain": [
       "  Customer ID  Variance\n",
       "0    CO867151  992437.0"
      ]
     },
     "execution_count": 9,
     "metadata": {},
     "output_type": "execute_result"
    }
   ],
   "source": [
    "sqlite_query = \"\"\"\n",
    "\n",
    "WITH Q1 AS (\n",
    "SELECT DISTINCT(\"Customer ID\") AS \"Customer ID\",\n",
    "    \"Policy Value\"\n",
    "    FROM Policy_Table\n",
    "    GROUP BY \"Policy Start Date\"\n",
    "    HAVING MIN(\"Policy Start Date\")\n",
    "    ),\n",
    "\n",
    "Q2 AS (\n",
    "SELECT DISTINCT(\"Customer ID\") AS \"Customer ID\",\n",
    "    \"Policy Value\"\n",
    "    FROM Policy_Table\n",
    "    GROUP BY \"Policy Start Date\"\n",
    "    HAVING MAX(\"Policy Start Date\")\n",
    "    )\n",
    "\n",
    "SELECT Q1.\"Customer ID\" AS \"Customer ID\",\n",
    "    ABS(COALESCE(CAST(Q1.\"Policy Value\" AS float),0) - COALESCE(CAST(Q2.\"Policy Value\" AS float),0)) AS Variance\n",
    "    FROM Q1\n",
    "    LEFT JOIN Q2\n",
    "    ON Q1.\"Customer ID\"=Q2.\"Customer ID\"\n",
    "    ORDER BY 2 DESC\n",
    "    LIMIT 1\n",
    "    \n",
    "\"\"\"\n",
    "\n",
    "pd.read_sql(sqlite_query, conn)"
   ]
  },
  {
   "cell_type": "markdown",
   "metadata": {
    "run_control": {
     "marked": true
    }
   },
   "source": [
    "# Python Test\n",
    "\n",
    "Same data, but now let's have some fun in python. Please do not use SQL for this part of the exercise. \n",
    "\n",
    "Feel free to add more cells of code or text"
   ]
  },
  {
   "cell_type": "code",
   "execution_count": 10,
   "metadata": {
    "run_control": {
     "marked": true
    }
   },
   "outputs": [],
   "source": [
    "Customer_Table = pd.read_sql('SELECT * FROM Customer_Table', conn)\n",
    "Policy_Table = pd.read_sql('SELECT * FROM Policy_Table', conn)\n",
    "Fund_Table = pd.read_sql('SELECT * FROM Fund_Table', conn)"
   ]
  },
  {
   "cell_type": "markdown",
   "metadata": {
    "run_control": {
     "marked": true
    }
   },
   "source": [
    "## Q4: Produce a list of customers which have an invalid email address. What do you notice about these customers? ##\n",
    "\n",
    "Feel free to use any packages of your choice"
   ]
  },
  {
   "cell_type": "code",
   "execution_count": 11,
   "metadata": {},
   "outputs": [],
   "source": [
    "import re\n",
    "## Custom function to varify and map valide email addresses\n",
    "def emailValidator(x):\n",
    "    if x is None:\n",
    "        ret = \"NA\"\n",
    "    else:\n",
    "        if re.search('^\\w+[\\_\\-\\.]?\\w+[@]\\w+[\\_\\-]?\\w+[\\.]?\\w+[\\.]?\\w+$',x) and len(x) > 5 :\n",
    "             ret = \"Valid\"\n",
    "        else: ret = \"Invalid\"\n",
    "    return ret"
   ]
  },
  {
   "cell_type": "code",
   "execution_count": 12,
   "metadata": {
    "run_control": {
     "marked": true
    }
   },
   "outputs": [
    {
     "data": {
      "text/html": [
       "<div>\n",
       "<style scoped>\n",
       "    .dataframe tbody tr th:only-of-type {\n",
       "        vertical-align: middle;\n",
       "    }\n",
       "\n",
       "    .dataframe tbody tr th {\n",
       "        vertical-align: top;\n",
       "    }\n",
       "\n",
       "    .dataframe thead th {\n",
       "        text-align: right;\n",
       "    }\n",
       "</style>\n",
       "<table border=\"1\" class=\"dataframe\">\n",
       "  <thead>\n",
       "    <tr style=\"text-align: right;\">\n",
       "      <th></th>\n",
       "      <th>index</th>\n",
       "      <th>Customer ID</th>\n",
       "      <th>Email</th>\n",
       "      <th>Gender</th>\n",
       "      <th>Age</th>\n",
       "      <th>Postcode</th>\n",
       "      <th>Validation</th>\n",
       "    </tr>\n",
       "  </thead>\n",
       "  <tbody>\n",
       "    <tr>\n",
       "      <th>121</th>\n",
       "      <td>121</td>\n",
       "      <td>CO609712</td>\n",
       "      <td>NOEMAIL</td>\n",
       "      <td>Male</td>\n",
       "      <td>81</td>\n",
       "      <td>None</td>\n",
       "      <td>Invalid</td>\n",
       "    </tr>\n",
       "    <tr>\n",
       "      <th>219</th>\n",
       "      <td>219</td>\n",
       "      <td>CO545536</td>\n",
       "      <td>VPEGGSK3@@@SPRINGER.COM</td>\n",
       "      <td>Male</td>\n",
       "      <td>74</td>\n",
       "      <td>46100-000</td>\n",
       "      <td>Invalid</td>\n",
       "    </tr>\n",
       "    <tr>\n",
       "      <th>337</th>\n",
       "      <td>337</td>\n",
       "      <td>CO795420</td>\n",
       "      <td>.</td>\n",
       "      <td>Female</td>\n",
       "      <td>68</td>\n",
       "      <td>680011</td>\n",
       "      <td>Invalid</td>\n",
       "    </tr>\n",
       "    <tr>\n",
       "      <th>399</th>\n",
       "      <td>399</td>\n",
       "      <td>CO205159</td>\n",
       "      <td>ALOWSELYHF@#AMAZON.CO.JP</td>\n",
       "      <td>Female</td>\n",
       "      <td>65</td>\n",
       "      <td>None</td>\n",
       "      <td>Invalid</td>\n",
       "    </tr>\n",
       "    <tr>\n",
       "      <th>422</th>\n",
       "      <td>422</td>\n",
       "      <td>CO627509</td>\n",
       "      <td>TBALLANTINEBU@G.CO</td>\n",
       "      <td>Female</td>\n",
       "      <td>65</td>\n",
       "      <td>None</td>\n",
       "      <td>Invalid</td>\n",
       "    </tr>\n",
       "    <tr>\n",
       "      <th>646</th>\n",
       "      <td>646</td>\n",
       "      <td>CO621051</td>\n",
       "      <td>NMINGO5T@G.CO</td>\n",
       "      <td>Male</td>\n",
       "      <td>60</td>\n",
       "      <td>None</td>\n",
       "      <td>Invalid</td>\n",
       "    </tr>\n",
       "    <tr>\n",
       "      <th>973</th>\n",
       "      <td>973</td>\n",
       "      <td>CO922481</td>\n",
       "      <td>CUSTOMER TO FOLLOW UP</td>\n",
       "      <td>Male</td>\n",
       "      <td>33</td>\n",
       "      <td>8340</td>\n",
       "      <td>Invalid</td>\n",
       "    </tr>\n",
       "  </tbody>\n",
       "</table>\n",
       "</div>"
      ],
      "text/plain": [
       "     index Customer ID                     Email  Gender  Age   Postcode  \\\n",
       "121    121    CO609712                   NOEMAIL    Male   81       None   \n",
       "219    219    CO545536   VPEGGSK3@@@SPRINGER.COM    Male   74  46100-000   \n",
       "337    337    CO795420                         .  Female   68     680011   \n",
       "399    399    CO205159  ALOWSELYHF@#AMAZON.CO.JP  Female   65       None   \n",
       "422    422    CO627509        TBALLANTINEBU@G.CO  Female   65       None   \n",
       "646    646    CO621051             NMINGO5T@G.CO    Male   60       None   \n",
       "973    973    CO922481     CUSTOMER TO FOLLOW UP    Male   33       8340   \n",
       "\n",
       "    Validation  \n",
       "121    Invalid  \n",
       "219    Invalid  \n",
       "337    Invalid  \n",
       "399    Invalid  \n",
       "422    Invalid  \n",
       "646    Invalid  \n",
       "973    Invalid  "
      ]
     },
     "execution_count": 12,
     "metadata": {},
     "output_type": "execute_result"
    }
   ],
   "source": [
    "#Insert your answer below:\n",
    "\n",
    "Customer_Table['Email']=Customer_Table['Email'].apply(lambda x : x.strip() if x is not None else None)    ## Removing Trailing Space\n",
    "\n",
    "Customer_Table['Validation']=Customer_Table['Email'].apply(lambda x : emailValidator(x))                  ## Creating an email validation flag\n",
    "\n",
    "Invalid_Customers=Customer_Table[Customer_Table[\"Validation\"] == 'Invalid']                                      ## Filtering customers with invalid email address\n",
    "\n",
    "Invalid_Customers.head(10)"
   ]
  },
  {
   "cell_type": "code",
   "execution_count": 13,
   "metadata": {},
   "outputs": [
    {
     "data": {
      "text/html": [
       "<div>\n",
       "<style scoped>\n",
       "    .dataframe tbody tr th:only-of-type {\n",
       "        vertical-align: middle;\n",
       "    }\n",
       "\n",
       "    .dataframe tbody tr th {\n",
       "        vertical-align: top;\n",
       "    }\n",
       "\n",
       "    .dataframe thead th {\n",
       "        text-align: right;\n",
       "    }\n",
       "</style>\n",
       "<table border=\"1\" class=\"dataframe\">\n",
       "  <thead>\n",
       "    <tr style=\"text-align: right;\">\n",
       "      <th></th>\n",
       "      <th>Customer ID</th>\n",
       "      <th>Email</th>\n",
       "      <th>Gender</th>\n",
       "      <th>Age</th>\n",
       "      <th>Postcode</th>\n",
       "      <th>Validation</th>\n",
       "      <th>Policy Number</th>\n",
       "      <th>Product Category</th>\n",
       "      <th>Product Name</th>\n",
       "      <th>Policy Value</th>\n",
       "      <th>Policy Start Date</th>\n",
       "    </tr>\n",
       "  </thead>\n",
       "  <tbody>\n",
       "    <tr>\n",
       "      <th>0</th>\n",
       "      <td>CO609712</td>\n",
       "      <td>NOEMAIL</td>\n",
       "      <td>Male</td>\n",
       "      <td>81</td>\n",
       "      <td>None</td>\n",
       "      <td>Invalid</td>\n",
       "      <td>RET100027</td>\n",
       "      <td>RETIREMENT</td>\n",
       "      <td>RETIREMENT ACCOUNT</td>\n",
       "      <td>816287.0</td>\n",
       "      <td>2016-08-07</td>\n",
       "    </tr>\n",
       "    <tr>\n",
       "      <th>1</th>\n",
       "      <td>CO609712</td>\n",
       "      <td>NOEMAIL</td>\n",
       "      <td>Male</td>\n",
       "      <td>81</td>\n",
       "      <td>None</td>\n",
       "      <td>Invalid</td>\n",
       "      <td>ISA3952</td>\n",
       "      <td>ISA</td>\n",
       "      <td>FOCUSSED ISA</td>\n",
       "      <td>682.0</td>\n",
       "      <td>2014-05-23</td>\n",
       "    </tr>\n",
       "    <tr>\n",
       "      <th>2</th>\n",
       "      <td>CO545536</td>\n",
       "      <td>VPEGGSK3@@@SPRINGER.COM</td>\n",
       "      <td>Male</td>\n",
       "      <td>74</td>\n",
       "      <td>46100-000</td>\n",
       "      <td>Invalid</td>\n",
       "      <td>RET100724</td>\n",
       "      <td>RETIREMENT</td>\n",
       "      <td>RETIREMENT ACCOUNT</td>\n",
       "      <td>444111.0</td>\n",
       "      <td>2017-10-03</td>\n",
       "    </tr>\n",
       "    <tr>\n",
       "      <th>3</th>\n",
       "      <td>CO545536</td>\n",
       "      <td>VPEGGSK3@@@SPRINGER.COM</td>\n",
       "      <td>Male</td>\n",
       "      <td>74</td>\n",
       "      <td>46100-000</td>\n",
       "      <td>Invalid</td>\n",
       "      <td>ANN1389</td>\n",
       "      <td>ANNUITY</td>\n",
       "      <td>STANDARD ANNUITY</td>\n",
       "      <td>NaN</td>\n",
       "      <td>2013-05-13</td>\n",
       "    </tr>\n",
       "    <tr>\n",
       "      <th>4</th>\n",
       "      <td>CO795420</td>\n",
       "      <td>.</td>\n",
       "      <td>Female</td>\n",
       "      <td>68</td>\n",
       "      <td>680011</td>\n",
       "      <td>Invalid</td>\n",
       "      <td>RET100997</td>\n",
       "      <td>RETIREMENT</td>\n",
       "      <td>RETIREMENT ACCOUNT</td>\n",
       "      <td>49384.0</td>\n",
       "      <td>2017-12-11</td>\n",
       "    </tr>\n",
       "  </tbody>\n",
       "</table>\n",
       "</div>"
      ],
      "text/plain": [
       "  Customer ID                    Email  Gender  Age   Postcode Validation  \\\n",
       "0    CO609712                  NOEMAIL    Male   81       None    Invalid   \n",
       "1    CO609712                  NOEMAIL    Male   81       None    Invalid   \n",
       "2    CO545536  VPEGGSK3@@@SPRINGER.COM    Male   74  46100-000    Invalid   \n",
       "3    CO545536  VPEGGSK3@@@SPRINGER.COM    Male   74  46100-000    Invalid   \n",
       "4    CO795420                        .  Female   68     680011    Invalid   \n",
       "\n",
       "  Policy Number Product Category        Product Name  Policy Value  \\\n",
       "0     RET100027       RETIREMENT  RETIREMENT ACCOUNT      816287.0   \n",
       "1       ISA3952              ISA        FOCUSSED ISA         682.0   \n",
       "2     RET100724       RETIREMENT  RETIREMENT ACCOUNT      444111.0   \n",
       "3       ANN1389          ANNUITY    STANDARD ANNUITY           NaN   \n",
       "4     RET100997       RETIREMENT  RETIREMENT ACCOUNT       49384.0   \n",
       "\n",
       "  Policy Start Date  \n",
       "0        2016-08-07  \n",
       "1        2014-05-23  \n",
       "2        2017-10-03  \n",
       "3        2013-05-13  \n",
       "4        2017-12-11  "
      ]
     },
     "execution_count": 13,
     "metadata": {},
     "output_type": "execute_result"
    }
   ],
   "source": [
    "## Pulling Policy details for the customers having invalid email address\n",
    "Invalid_Customers_Policy = pd.merge(Invalid_Customers.drop(\"index\",axis=1),Policy_Table.drop(\"index\",axis=1),how='left',left_on=\"Customer ID\",right_on=\"Customer ID\",validate=\"1:m\")   \n",
    "\n",
    "## Converting Policy Start Date into date format\n",
    "Invalid_Customers_Policy[\"Policy Start Date\"]=pd.to_datetime(Invalid_Customers_Policy[\"Policy Start Date\"],format=\"%Y-%m-%d\")\n",
    "Invalid_Customers_Policy.head(5)"
   ]
  },
  {
   "cell_type": "code",
   "execution_count": 14,
   "metadata": {},
   "outputs": [
    {
     "data": {
      "text/html": [
       "<div>\n",
       "<style scoped>\n",
       "    .dataframe tbody tr th:only-of-type {\n",
       "        vertical-align: middle;\n",
       "    }\n",
       "\n",
       "    .dataframe tbody tr th {\n",
       "        vertical-align: top;\n",
       "    }\n",
       "\n",
       "    .dataframe thead tr th {\n",
       "        text-align: left;\n",
       "    }\n",
       "\n",
       "    .dataframe thead tr:last-of-type th {\n",
       "        text-align: right;\n",
       "    }\n",
       "</style>\n",
       "<table border=\"1\" class=\"dataframe\">\n",
       "  <thead>\n",
       "    <tr>\n",
       "      <th></th>\n",
       "      <th></th>\n",
       "      <th></th>\n",
       "      <th></th>\n",
       "      <th colspan=\"4\" halign=\"left\">Policy Value</th>\n",
       "      <th colspan=\"2\" halign=\"left\">Policy Start Date</th>\n",
       "      <th>Policy Number</th>\n",
       "    </tr>\n",
       "    <tr>\n",
       "      <th></th>\n",
       "      <th></th>\n",
       "      <th></th>\n",
       "      <th></th>\n",
       "      <th>sum</th>\n",
       "      <th>mean</th>\n",
       "      <th>min</th>\n",
       "      <th>max</th>\n",
       "      <th>min</th>\n",
       "      <th>max</th>\n",
       "      <th>nunique</th>\n",
       "    </tr>\n",
       "    <tr>\n",
       "      <th>Customer ID</th>\n",
       "      <th>Email</th>\n",
       "      <th>Gender</th>\n",
       "      <th>Age</th>\n",
       "      <th></th>\n",
       "      <th></th>\n",
       "      <th></th>\n",
       "      <th></th>\n",
       "      <th></th>\n",
       "      <th></th>\n",
       "      <th></th>\n",
       "    </tr>\n",
       "  </thead>\n",
       "  <tbody>\n",
       "    <tr>\n",
       "      <th>CO205159</th>\n",
       "      <th>ALOWSELYHF@#AMAZON.CO.JP</th>\n",
       "      <th>Female</th>\n",
       "      <th>65</th>\n",
       "      <td>361320.0</td>\n",
       "      <td>180660.0</td>\n",
       "      <td>6245.0</td>\n",
       "      <td>355075.0</td>\n",
       "      <td>2009-11-03</td>\n",
       "      <td>2016-08-13</td>\n",
       "      <td>2</td>\n",
       "    </tr>\n",
       "    <tr>\n",
       "      <th>CO545536</th>\n",
       "      <th>VPEGGSK3@@@SPRINGER.COM</th>\n",
       "      <th>Male</th>\n",
       "      <th>74</th>\n",
       "      <td>444111.0</td>\n",
       "      <td>444111.0</td>\n",
       "      <td>444111.0</td>\n",
       "      <td>444111.0</td>\n",
       "      <td>2013-05-13</td>\n",
       "      <td>2017-10-03</td>\n",
       "      <td>2</td>\n",
       "    </tr>\n",
       "    <tr>\n",
       "      <th>CO609712</th>\n",
       "      <th>NOEMAIL</th>\n",
       "      <th>Male</th>\n",
       "      <th>81</th>\n",
       "      <td>816969.0</td>\n",
       "      <td>408484.5</td>\n",
       "      <td>682.0</td>\n",
       "      <td>816287.0</td>\n",
       "      <td>2014-05-23</td>\n",
       "      <td>2016-08-07</td>\n",
       "      <td>2</td>\n",
       "    </tr>\n",
       "    <tr>\n",
       "      <th>CO621051</th>\n",
       "      <th>NMINGO5T@G.CO</th>\n",
       "      <th>Male</th>\n",
       "      <th>60</th>\n",
       "      <td>775961.0</td>\n",
       "      <td>387980.5</td>\n",
       "      <td>3635.0</td>\n",
       "      <td>772326.0</td>\n",
       "      <td>2012-06-27</td>\n",
       "      <td>2016-12-11</td>\n",
       "      <td>2</td>\n",
       "    </tr>\n",
       "    <tr>\n",
       "      <th>CO627509</th>\n",
       "      <th>TBALLANTINEBU@G.CO</th>\n",
       "      <th>Female</th>\n",
       "      <th>65</th>\n",
       "      <td>282051.0</td>\n",
       "      <td>282051.0</td>\n",
       "      <td>282051.0</td>\n",
       "      <td>282051.0</td>\n",
       "      <td>2013-07-29</td>\n",
       "      <td>2017-08-22</td>\n",
       "      <td>2</td>\n",
       "    </tr>\n",
       "    <tr>\n",
       "      <th>CO795420</th>\n",
       "      <th>.</th>\n",
       "      <th>Female</th>\n",
       "      <th>68</th>\n",
       "      <td>49384.0</td>\n",
       "      <td>49384.0</td>\n",
       "      <td>49384.0</td>\n",
       "      <td>49384.0</td>\n",
       "      <td>2017-12-11</td>\n",
       "      <td>2017-12-11</td>\n",
       "      <td>1</td>\n",
       "    </tr>\n",
       "    <tr>\n",
       "      <th>CO922481</th>\n",
       "      <th>CUSTOMER TO FOLLOW UP</th>\n",
       "      <th>Male</th>\n",
       "      <th>33</th>\n",
       "      <td>284373.0</td>\n",
       "      <td>142186.5</td>\n",
       "      <td>9788.0</td>\n",
       "      <td>274585.0</td>\n",
       "      <td>2011-01-04</td>\n",
       "      <td>2016-11-06</td>\n",
       "      <td>2</td>\n",
       "    </tr>\n",
       "  </tbody>\n",
       "</table>\n",
       "</div>"
      ],
      "text/plain": [
       "                                                Policy Value            \\\n",
       "                                                         sum      mean   \n",
       "Customer ID Email                    Gender Age                          \n",
       "CO205159    ALOWSELYHF@#AMAZON.CO.JP Female 65      361320.0  180660.0   \n",
       "CO545536    VPEGGSK3@@@SPRINGER.COM  Male   74      444111.0  444111.0   \n",
       "CO609712    NOEMAIL                  Male   81      816969.0  408484.5   \n",
       "CO621051    NMINGO5T@G.CO            Male   60      775961.0  387980.5   \n",
       "CO627509    TBALLANTINEBU@G.CO       Female 65      282051.0  282051.0   \n",
       "CO795420    .                        Female 68       49384.0   49384.0   \n",
       "CO922481    CUSTOMER TO FOLLOW UP    Male   33      284373.0  142186.5   \n",
       "\n",
       "                                                                     \\\n",
       "                                                      min       max   \n",
       "Customer ID Email                    Gender Age                       \n",
       "CO205159    ALOWSELYHF@#AMAZON.CO.JP Female 65     6245.0  355075.0   \n",
       "CO545536    VPEGGSK3@@@SPRINGER.COM  Male   74   444111.0  444111.0   \n",
       "CO609712    NOEMAIL                  Male   81      682.0  816287.0   \n",
       "CO621051    NMINGO5T@G.CO            Male   60     3635.0  772326.0   \n",
       "CO627509    TBALLANTINEBU@G.CO       Female 65   282051.0  282051.0   \n",
       "CO795420    .                        Female 68    49384.0   49384.0   \n",
       "CO922481    CUSTOMER TO FOLLOW UP    Male   33     9788.0  274585.0   \n",
       "\n",
       "                                                Policy Start Date             \\\n",
       "                                                              min        max   \n",
       "Customer ID Email                    Gender Age                                \n",
       "CO205159    ALOWSELYHF@#AMAZON.CO.JP Female 65         2009-11-03 2016-08-13   \n",
       "CO545536    VPEGGSK3@@@SPRINGER.COM  Male   74         2013-05-13 2017-10-03   \n",
       "CO609712    NOEMAIL                  Male   81         2014-05-23 2016-08-07   \n",
       "CO621051    NMINGO5T@G.CO            Male   60         2012-06-27 2016-12-11   \n",
       "CO627509    TBALLANTINEBU@G.CO       Female 65         2013-07-29 2017-08-22   \n",
       "CO795420    .                        Female 68         2017-12-11 2017-12-11   \n",
       "CO922481    CUSTOMER TO FOLLOW UP    Male   33         2011-01-04 2016-11-06   \n",
       "\n",
       "                                                Policy Number  \n",
       "                                                      nunique  \n",
       "Customer ID Email                    Gender Age                \n",
       "CO205159    ALOWSELYHF@#AMAZON.CO.JP Female 65              2  \n",
       "CO545536    VPEGGSK3@@@SPRINGER.COM  Male   74              2  \n",
       "CO609712    NOEMAIL                  Male   81              2  \n",
       "CO621051    NMINGO5T@G.CO            Male   60              2  \n",
       "CO627509    TBALLANTINEBU@G.CO       Female 65              2  \n",
       "CO795420    .                        Female 68              1  \n",
       "CO922481    CUSTOMER TO FOLLOW UP    Male   33              2  "
      ]
     },
     "execution_count": 14,
     "metadata": {},
     "output_type": "execute_result"
    }
   ],
   "source": [
    "## Creating policy related stats to identify gaps\n",
    "Invalid_Customers_Policy_agg = Invalid_Customers_Policy.groupby([\"Customer ID\",\"Email\",\"Gender\",\"Age\"]).agg({\"Policy Value\":['sum','mean','min','max'],\"Policy Start Date\":['min','max'],\"Policy Number\":'nunique'})\n",
    "Invalid_Customers_Policy_agg"
   ]
  },
  {
   "cell_type": "markdown",
   "metadata": {},
   "source": [
    "#### It seems that the sales representatives misentered email addresses for these customers"
   ]
  },
  {
   "cell_type": "markdown",
   "metadata": {
    "run_control": {
     "marked": true
    }
   },
   "source": [
    "## Q5: The Managing Director of Pru Wealth needs to see how policy value differs between other variables in the database (e.g. customer demographics) . They don't have time to read a report, so have asked for a cool visualisation that tells a story.\n",
    "\n",
    "Visualise something cool, tell us a story! You can use packages like Matplotlib, Seaborn or Plotly.Tell us why you chose to visualise the data in this way and how it can be used from a business perspective.\n"
   ]
  },
  {
   "cell_type": "code",
   "execution_count": 15,
   "metadata": {
    "run_control": {
     "marked": true
    }
   },
   "outputs": [],
   "source": [
    "# Insert your answer below: \n",
    "\n",
    "## Customer Policies\n",
    "Customer_Policy = pd.merge(Customer_Table.drop(\"index\",axis=1),Policy_Table.drop(\"index\",axis=1),how='left',on=\"Customer ID\")\n",
    "Customer_Policy[\"KEY\"] = Customer_Policy['Customer ID'] + \"_\" + Customer_Policy['Policy Number']\n",
    "\n",
    "## Customer Fund Snapshots \n",
    "Customer_Fund = pd.merge(Customer_Table.drop(\"index\",axis=1),Fund_Table.drop(\"index\",axis=1),how='left',on=\"Customer ID\")\n",
    "Customer_Fund['KEY'] = Customer_Fund['Customer ID'] + \"_\" + Customer_Fund['Policy Number']"
   ]
  },
  {
   "cell_type": "code",
   "execution_count": 16,
   "metadata": {
    "scrolled": false
   },
   "outputs": [],
   "source": [
    "import matplotlib.pyplot as plt\n",
    "%matplotlib inline\n",
    "\n",
    "## Function to map desired color with each Policy category\n",
    "def colorMapper(x):\n",
    "    if x == \"RETIREMENT\":\n",
    "        ret = \"aquamarine\"\n",
    "    elif x == \"ISA\":\n",
    "        ret = \"orange\"\n",
    "    elif x == \"PENSION\":\n",
    "        ret = \"lightseagreen\"\n",
    "    elif x == \"BOND\":\n",
    "        ret = \"deeppink\"\n",
    "    elif x == \"ANNUITY\":\n",
    "        ret = \"orchid\"\n",
    "    else : None\n",
    "    return ret"
   ]
  },
  {
   "cell_type": "code",
   "execution_count": 17,
   "metadata": {},
   "outputs": [
    {
     "data": {
      "text/plain": [
       "<matplotlib.collections.PathCollection at 0x1ff1119dd00>"
      ]
     },
     "execution_count": 17,
     "metadata": {},
     "output_type": "execute_result"
    },
    {
     "data": {
      "image/png": "[encoded data removed]",
      "text/plain": [
       "<Figure size 432x288 with 1 Axes>"
      ]
     },
     "metadata": {
      "needs_background": "light"
     },
     "output_type": "display_data"
    }
   ],
   "source": [
    "## Creating extra column with colors mapped as per the policy category\n",
    "Customer_Policy['Color'] = Customer_Policy['Product Category'].apply(lambda x : colorMapper(x))\n",
    "\n",
    "plt.scatter(x=Customer_Policy['Age'],y=Customer_Policy['Policy Value'],c=Customer_Policy['Color'])"
   ]
  },
  {
   "cell_type": "markdown",
   "metadata": {},
   "source": [
    "### It's clear from the above image that customers prefer to invest more into Retirement policies.\n",
    " "
   ]
  },
  {
   "cell_type": "markdown",
   "metadata": {},
   "source": [
    "### More over a strong buying pattern for retirement policies is observed in the customers falling under the age between 63 to 67 and also between 51 to 54 "
   ]
  },
  {
   "cell_type": "markdown",
   "metadata": {},
   "source": [
    "##### We can further integrate these tables with Power BI or Tableau to create and publish more Interactive dashboards and share accross the organization"
   ]
  },
  {
   "cell_type": "code",
   "execution_count": null,
   "metadata": {},
   "outputs": [],
   "source": []
  }
 ],
 "metadata": {
  "celltoolbar": "Raw Cell Format",
  "kernelspec": {
   "display_name": "Python 3",
   "language": "python",
   "name": "python3"
  },
  "language_info": {
   "codemirror_mode": {
    "name": "ipython",
    "version": 3
   },
   "file_extension": ".py",
   "mimetype": "text/x-python",
   "name": "python",
   "nbconvert_exporter": "python",
   "pygments_lexer": "ipython3",
   "version": "3.8.5"
  },
  "toc": {
   "colors": {
    "hover_highlight": "#DAA520",
    "running_highlight": "#FF0000",
    "selected_highlight": "#FFD700"
   },
   "moveMenuLeft": true,
   "nav_menu": {},
   "navigate_menu": true,
   "number_sections": true,
   "sideBar": true,
   "skip_h1_title": false,
   "threshold": 4,
   "toc_cell": false,
   "toc_position": {
    "height": "977px",
    "left": "0px",
    "right": "1457.01px",
    "top": "107px",
    "width": "214px"
   },
   "toc_section_display": "block",
   "toc_window_display": true
  }
 },
 "nbformat": 4,
 "nbformat_minor": 1
}
